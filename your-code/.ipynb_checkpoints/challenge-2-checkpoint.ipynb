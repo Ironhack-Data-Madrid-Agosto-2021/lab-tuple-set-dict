{
 "cells": [
  {
   "cell_type": "markdown",
   "metadata": {},
   "source": [
    "## Challenge 2: Sets\n",
    "\n",
    "There are a lot to learn about Python Sets and the information presented in the lesson is limited due to its length. To learn Python Sets in depth you are strongly encouraged to review the W3Schools tutorial on [Python Sets Examples and Methods](https://www.w3schools.com/python/python_sets.asp) before you work on this lab. Some difficult questions in this lab have their solutions in the W3Schools tutorial.\n",
    "\n",
    "#### First, import the Python `random` libary"
   ]
  },
  {
   "cell_type": "code",
   "execution_count": 3,
   "metadata": {},
   "outputs": [],
   "source": [
    "import random"
   ]
  },
  {
   "cell_type": "markdown",
   "metadata": {},
   "source": [
    "#### In the cell below, create a list named `sample_list_1` with 80 random values. \n",
    "\n",
    "Requirements:\n",
    "\n",
    "* Each value is an integer falling between 0 and 100.\n",
    "* Each value in the list is unique.\n",
    "\n",
    "Print `sample_list_1` to review its values\n",
    "\n",
    "*Hint: use `random.sample` ([reference](https://docs.python.org/3/library/random.html#random.sample)).*"
   ]
  },
  {
   "cell_type": "code",
   "execution_count": 4,
   "metadata": {},
   "outputs": [
    {
     "data": {
      "text/plain": [
       "[30,\n",
       " 55,\n",
       " 43,\n",
       " 13,\n",
       " 98,\n",
       " 50,\n",
       " 80,\n",
       " 86,\n",
       " 16,\n",
       " 21,\n",
       " 12,\n",
       " 9,\n",
       " 34,\n",
       " 58,\n",
       " 40,\n",
       " 7,\n",
       " 24,\n",
       " 23,\n",
       " 66,\n",
       " 17,\n",
       " 88,\n",
       " 20,\n",
       " 95,\n",
       " 63,\n",
       " 59,\n",
       " 4,\n",
       " 56,\n",
       " 28,\n",
       " 3,\n",
       " 74,\n",
       " 89,\n",
       " 65,\n",
       " 37,\n",
       " 1,\n",
       " 57,\n",
       " 67,\n",
       " 19,\n",
       " 93,\n",
       " 26,\n",
       " 77,\n",
       " 54,\n",
       " 38,\n",
       " 97,\n",
       " 61,\n",
       " 91,\n",
       " 32,\n",
       " 22,\n",
       " 39,\n",
       " 64,\n",
       " 99,\n",
       " 45,\n",
       " 72,\n",
       " 31,\n",
       " 75,\n",
       " 76,\n",
       " 15,\n",
       " 69,\n",
       " 81,\n",
       " 36,\n",
       " 11,\n",
       " 10,\n",
       " 71,\n",
       " 60,\n",
       " 84,\n",
       " 44,\n",
       " 47,\n",
       " 68,\n",
       " 29,\n",
       " 79,\n",
       " 49,\n",
       " 100,\n",
       " 6,\n",
       " 52,\n",
       " 42,\n",
       " 2,\n",
       " 8,\n",
       " 83,\n",
       " 82,\n",
       " 41,\n",
       " 62]"
      ]
     },
     "execution_count": 4,
     "metadata": {},
     "output_type": "execute_result"
    }
   ],
   "source": [
    "# Your code here\n",
    "\n",
    "# Solution 1 \n",
    "sample_list_1 = random.sample(range(101), k=80)\n",
    "\n",
    "#Solution 2\n",
    "##list_100 = list(range(101))\n",
    "#sample_list_1 = random.sample(list_100,80)\n",
    "sample_list_1\n"
   ]
  },
  {
   "cell_type": "markdown",
   "metadata": {},
   "source": [
    "#### Convert `sample_list_1` to a set called `set1`. Print the length of the set. Is its length still 80?"
   ]
  },
  {
   "cell_type": "code",
   "execution_count": 5,
   "metadata": {},
   "outputs": [
    {
     "name": "stdout",
     "output_type": "stream",
     "text": [
      "set_sample_list_1 lenght : 80\n"
     ]
    }
   ],
   "source": [
    "# Your code here\n",
    "set1 = set(sample_list_1)\n",
    "print(\"set_sample_list_1 lenght :\", len(set1))\n"
   ]
  },
  {
   "cell_type": "markdown",
   "metadata": {},
   "source": [
    "#### Create another list named `sample_list_2` with 80 random values.\n",
    "\n",
    "Requirements:\n",
    "\n",
    "* Each value is an integer falling between 0 and 100.\n",
    "* The values in the list don't have to be unique.\n",
    "\n",
    "*Hint: Use a FOR loop.*"
   ]
  },
  {
   "cell_type": "code",
   "execution_count": 6,
   "metadata": {},
   "outputs": [
    {
     "name": "stdout",
     "output_type": "stream",
     "text": [
      "sample_list_2:  [70, 38, 7, 68, 48, 54, 94, 40, 5, 51, 65, 39, 47, 29, 57, 70, 78, 54, 4, 76, 19, 6, 76, 54, 50, 58, 100, 24, 36, 45, 30, 81, 88, 70, 8, 62, 64, 38, 10, 42, 40, 99, 64, 22, 101, 25, 72, 58, 6, 25, 99, 1, 16, 27, 62, 86, 29, 16, 4, 0, 54, 95, 53, 65, 21, 8, 49, 86, 33, 1, 45, 9, 60, 30, 88, 6, 48, 88, 42, 18]\n",
      "sample_list_2: lengh:  80\n"
     ]
    }
   ],
   "source": [
    "# Your code here\n",
    "sample_list_2 = [] \n",
    "\n",
    "for i in range(80):\n",
    "    sample_list_2.append(random.randint(0,101))\n",
    "\n",
    "print(\"sample_list_2: \",  sample_list_2)\n",
    "print(\"sample_list_2: lengh: \", len(sample_list_2))\n"
   ]
  },
  {
   "cell_type": "markdown",
   "metadata": {},
   "source": [
    "#### Convert `sample_list_2` to a set called `set2`. Print the length of the set. Is its length still 80?"
   ]
  },
  {
   "cell_type": "code",
   "execution_count": 7,
   "metadata": {},
   "outputs": [
    {
     "name": "stdout",
     "output_type": "stream",
     "text": [
      "52\n"
     ]
    }
   ],
   "source": [
    "# Your code here\n",
    "#It is not 80 because now there are repeated values\n",
    "set2 = set(sample_list_2)\n",
    "print(len(set2))"
   ]
  },
  {
   "cell_type": "markdown",
   "metadata": {},
   "source": [
    "#### Identify the elements present in `set1` but not in `set2`. Assign the elements to a new set named `set3`."
   ]
  },
  {
   "cell_type": "code",
   "execution_count": 8,
   "metadata": {},
   "outputs": [
    {
     "name": "stdout",
     "output_type": "stream",
     "text": [
      "{2, 3, 11, 12, 13, 15, 17, 20, 23, 26, 28, 31, 32, 34, 37, 41, 43, 44, 52, 55, 56, 59, 61, 63, 66, 67, 69, 71, 74, 75, 77, 79, 80, 82, 83, 84, 89, 91, 93, 97, 98}\n"
     ]
    }
   ],
   "source": [
    "# Your code here\n",
    "set3 = set1.difference(set2)\n",
    "print(set3)"
   ]
  },
  {
   "cell_type": "markdown",
   "metadata": {},
   "source": [
    "#### Identify the elements present in `set2` but not in `set1`. Assign the elements to a new set named `set4`."
   ]
  },
  {
   "cell_type": "code",
   "execution_count": 9,
   "metadata": {},
   "outputs": [
    {
     "name": "stdout",
     "output_type": "stream",
     "text": [
      "{0, 33, 5, 70, 101, 78, 48, 18, 51, 53, 25, 27, 94}\n"
     ]
    }
   ],
   "source": [
    "# Your code here\n",
    "set4 = set2.difference(set1)\n",
    "print(set4)"
   ]
  },
  {
   "cell_type": "markdown",
   "metadata": {},
   "source": [
    "#### Now Identify the elements shared between `set1` and `set2`. Assign the elements to a new set named `set5`."
   ]
  },
  {
   "cell_type": "code",
   "execution_count": 12,
   "metadata": {},
   "outputs": [
    {
     "name": "stdout",
     "output_type": "stream",
     "text": [
      "{1, 4, 6, 7, 8, 9, 10, 16, 19, 21, 22, 24, 29, 30, 36, 38, 39, 40, 42, 45, 47, 49, 50, 54, 57, 58, 60, 62, 64, 65, 68, 72, 76, 81, 86, 88, 95, 99, 100}\n"
     ]
    }
   ],
   "source": [
    "# Your code here\n",
    "set5 = set1.intersection(set2)\n",
    "print(set5)"
   ]
  },
  {
   "cell_type": "markdown",
   "metadata": {},
   "source": [
    "#### What is the relationship among the following values:\n",
    "\n",
    "* len(set1)\n",
    "* len(set2)\n",
    "* len(set3)\n",
    "* len(set4)\n",
    "* len(set5)\n",
    "\n",
    "Use a math formular to represent that relationship. Test your formular with Python code."
   ]
  },
  {
   "cell_type": "code",
   "execution_count": 17,
   "metadata": {},
   "outputs": [
    {
     "name": "stdout",
     "output_type": "stream",
     "text": [
      "80\n",
      "52\n",
      "41\n",
      "13\n",
      "39\n"
     ]
    },
    {
     "data": {
      "text/plain": [
       "True"
      ]
     },
     "execution_count": 17,
     "metadata": {},
     "output_type": "execute_result"
    }
   ],
   "source": [
    "# Your code here\n",
    "\n",
    "#len(set3)+len(set5 )== len(set1)\n",
    "print(len(set1))\n",
    "print(len(set2))\n",
    "print(len(set3))\n",
    "print(len(set4))\n",
    "print(len(set5))\n",
    "\n",
    "\n",
    "len(set3)+len(set4)+ len(set5) == len(set1)+len(set2)-len(set5)\n"
   ]
  },
  {
   "cell_type": "markdown",
   "metadata": {},
   "source": [
    "#### Create an empty set called `set6`."
   ]
  },
  {
   "cell_type": "code",
   "execution_count": 19,
   "metadata": {},
   "outputs": [],
   "source": [
    "# Your code here\n",
    "set6 = set()\n"
   ]
  },
  {
   "cell_type": "markdown",
   "metadata": {},
   "source": [
    "#### Add `set3` and `set5` to `set6` using the Python Set `update` method."
   ]
  },
  {
   "cell_type": "code",
   "execution_count": 20,
   "metadata": {},
   "outputs": [
    {
     "name": "stdout",
     "output_type": "stream",
     "text": [
      "{1, 2, 3, 4, 6, 7, 8, 9, 10, 11, 12, 13, 15, 16, 17, 19, 20, 21, 22, 23, 24, 26, 28, 29, 30, 31, 32, 34, 36, 37, 38, 39, 40, 41, 42, 43, 44, 45, 47, 49, 50, 52, 54, 55, 56, 57, 58, 59, 60, 61, 62, 63, 64, 65, 66, 67, 68, 69, 71, 72, 74, 75, 76, 77, 79, 80, 81, 82, 83, 84, 86, 88, 89, 91, 93, 95, 97, 98, 99, 100}\n"
     ]
    }
   ],
   "source": [
    "# Your code here\n",
    "set6.update(set3)\n",
    "set6.update(set5)\n",
    "print(set6)"
   ]
  },
  {
   "cell_type": "markdown",
   "metadata": {},
   "source": [
    "#### Check if `set1` and `set6` are equal."
   ]
  },
  {
   "cell_type": "code",
   "execution_count": 21,
   "metadata": {},
   "outputs": [
    {
     "name": "stdout",
     "output_type": "stream",
     "text": [
      "Sets are not equal\n"
     ]
    }
   ],
   "source": [
    "# Your code here\n",
    "if set2==set6:\n",
    "    print(\"both sets are equal\")\n",
    "else:\n",
    "    print(\"Sets are not equal\")"
   ]
  },
  {
   "cell_type": "markdown",
   "metadata": {},
   "source": [
    "#### Check if `set1` contains `set2` using the Python Set `issubset` method. Then check if `set1` contains `set3`.*"
   ]
  },
  {
   "cell_type": "code",
   "execution_count": 22,
   "metadata": {},
   "outputs": [
    {
     "name": "stdout",
     "output_type": "stream",
     "text": [
      "set1 does not contains set2\n",
      "set1 does not contains set3\n"
     ]
    }
   ],
   "source": [
    "# Your code here\n",
    "\n",
    "if set1.issubset(set2): \n",
    "    print(\"set1 contains set2\")\n",
    "else:\n",
    "    print(\"set1 does not contains set2\")\n",
    "    \n",
    "if set1.issubset(set3): \n",
    "    print(\"set1 contains set3\")\n",
    "else:\n",
    "    print(\"set1 does not contains set3\")    \n",
    "\n"
   ]
  },
  {
   "cell_type": "markdown",
   "metadata": {},
   "source": [
    "#### Using the Python Set `union` method, aggregate `set3`, `set4`, and `set5`. Then aggregate `set1` and `set2`. \n",
    "\n",
    "#### Check if the aggregated values are equal."
   ]
  },
  {
   "cell_type": "code",
   "execution_count": 23,
   "metadata": {},
   "outputs": [
    {
     "name": "stdout",
     "output_type": "stream",
     "text": [
      "Both sets are equal\n"
     ]
    }
   ],
   "source": [
    "# Your code here\n",
    "aggregate_set_1 = (set3.union(set4)).union(set5)\n",
    "aggregate_set_2 = set1.union(set2)\n",
    "\n",
    "if aggregate_set_1==aggregate_set_2:\n",
    "    print(\"Both sets are equal\")\n",
    "else:\n",
    "    print(\"Sets are not equal\")\n",
    "\n"
   ]
  },
  {
   "cell_type": "markdown",
   "metadata": {},
   "source": [
    "#### Using the `pop` method, remove the first element from `set1`."
   ]
  },
  {
   "cell_type": "code",
   "execution_count": 24,
   "metadata": {},
   "outputs": [
    {
     "name": "stdout",
     "output_type": "stream",
     "text": [
      "set1 before pop: {1, 2, 3, 4, 6, 7, 8, 9, 10, 11, 12, 13, 15, 16, 17, 19, 20, 21, 22, 23, 24, 26, 28, 29, 30, 31, 32, 34, 36, 37, 38, 39, 40, 41, 42, 43, 44, 45, 47, 49, 50, 52, 54, 55, 56, 57, 58, 59, 60, 61, 62, 63, 64, 65, 66, 67, 68, 69, 71, 72, 74, 75, 76, 77, 79, 80, 81, 82, 83, 84, 86, 88, 89, 91, 93, 95, 97, 98, 99, 100}\n",
      "1\n",
      "set1 after pop: {2, 3, 4, 6, 7, 8, 9, 10, 11, 12, 13, 15, 16, 17, 19, 20, 21, 22, 23, 24, 26, 28, 29, 30, 31, 32, 34, 36, 37, 38, 39, 40, 41, 42, 43, 44, 45, 47, 49, 50, 52, 54, 55, 56, 57, 58, 59, 60, 61, 62, 63, 64, 65, 66, 67, 68, 69, 71, 72, 74, 75, 76, 77, 79, 80, 81, 82, 83, 84, 86, 88, 89, 91, 93, 95, 97, 98, 99, 100}\n"
     ]
    }
   ],
   "source": [
    "# Your code here\n",
    "print(\"set1 before pop:\", set1)\n",
    "print(set1.pop())\n",
    "print(\"set1 after pop:\", set1)"
   ]
  },
  {
   "cell_type": "markdown",
   "metadata": {},
   "source": [
    "#### Remove every element in the following list from `set1` if they are present in the set. Print the remaining elements.\n",
    "\n",
    "```\n",
    "list_to_remove = [1, 9, 11, 19, 21, 29, 31, 39, 41, 49, 51, 59, 61, 69, 71, 79, 81, 89, 91, 99]\n",
    "```"
   ]
  },
  {
   "cell_type": "code",
   "execution_count": 25,
   "metadata": {},
   "outputs": [
    {
     "name": "stdout",
     "output_type": "stream",
     "text": [
      "{2, 3, 4, 6, 7, 8, 10, 12, 13, 15, 16, 17, 20, 22, 23, 24, 26, 28, 30, 32, 34, 36, 37, 38, 40, 42, 43, 44, 45, 47, 50, 52, 54, 55, 56, 57, 58, 60, 62, 63, 64, 65, 66, 67, 68, 72, 74, 75, 76, 77, 80, 82, 83, 84, 86, 88, 93, 95, 97, 98, 100}\n"
     ]
    }
   ],
   "source": [
    "# Your code here\n",
    "list_to_remove = [1, 9, 11, 19, 21, 29, 31, 39, 41, 49, 51, 59, 61, 69, 71, 79, 81, 89, 91, 99]\n",
    "   \n",
    "for element in list_to_remove:\n",
    "    set1.discard(element)\n",
    "print(set1)"
   ]
  }
 ],
 "metadata": {
  "kernelspec": {
   "display_name": "Python 3 (ipykernel)",
   "language": "python",
   "name": "python3"
  },
  "language_info": {
   "codemirror_mode": {
    "name": "ipython",
    "version": 3
   },
   "file_extension": ".py",
   "mimetype": "text/x-python",
   "name": "python",
   "nbconvert_exporter": "python",
   "pygments_lexer": "ipython3",
   "version": "3.8.10"
  },
  "toc": {
   "base_numbering": 1,
   "nav_menu": {},
   "number_sections": false,
   "sideBar": true,
   "skip_h1_title": false,
   "title_cell": "Table of Contents",
   "title_sidebar": "Contents",
   "toc_cell": false,
   "toc_position": {},
   "toc_section_display": true,
   "toc_window_display": true
  },
  "varInspector": {
   "cols": {
    "lenName": 16,
    "lenType": 16,
    "lenVar": 40
   },
   "kernels_config": {
    "python": {
     "delete_cmd_postfix": "",
     "delete_cmd_prefix": "del ",
     "library": "var_list.py",
     "varRefreshCmd": "print(var_dic_list())"
    },
    "r": {
     "delete_cmd_postfix": ") ",
     "delete_cmd_prefix": "rm(",
     "library": "var_list.r",
     "varRefreshCmd": "cat(var_dic_list()) "
    }
   },
   "types_to_exclude": [
    "module",
    "function",
    "builtin_function_or_method",
    "instance",
    "_Feature"
   ],
   "window_display": false
  }
 },
 "nbformat": 4,
 "nbformat_minor": 2
}
